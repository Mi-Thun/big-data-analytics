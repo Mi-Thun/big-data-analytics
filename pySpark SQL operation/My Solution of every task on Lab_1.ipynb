{
  "nbformat": 4,
  "nbformat_minor": 0,
  "metadata": {
    "colab": {
      "provenance": []
    },
    "kernelspec": {
      "name": "python3",
      "display_name": "Python 3"
    },
    "language_info": {
      "name": "python"
    },
    "accelerator": "GPU",
    "gpuClass": "standard"
  },
  "cells": [
    {
      "cell_type": "markdown",
      "source": [
        "### Import necessary module"
      ],
      "metadata": {
        "id": "_ChB18ecSF1C"
      }
    },
    {
      "cell_type": "code",
      "execution_count": 1,
      "metadata": {
        "colab": {
          "base_uri": "https://localhost:8080/"
        },
        "id": "zJI8YUIrGxFg",
        "outputId": "792b18b4-3fde-441b-9acf-824d27e71993"
      },
      "outputs": [
        {
          "output_type": "stream",
          "name": "stdout",
          "text": [
            "Reading package lists... Done\n",
            "Building dependency tree       \n",
            "Reading state information... Done\n",
            "The following packages will be REMOVED:\n",
            "  libnvidia-common-510\n",
            "0 upgraded, 0 newly installed, 1 to remove and 21 not upgraded.\n",
            "After this operation, 35.8 kB disk space will be freed.\n",
            "(Reading database ... 128126 files and directories currently installed.)\n",
            "Removing libnvidia-common-510 (510.108.03-0ubuntu1) ...\n",
            "Looking in indexes: https://pypi.org/simple, https://us-python.pkg.dev/colab-wheels/public/simple/\n",
            "Collecting pyspark\n",
            "  Downloading pyspark-3.3.2.tar.gz (281.4 MB)\n",
            "\u001b[2K     \u001b[90m━━━━━━━━━━━━━━━━━━━━━━━━━━━━━━━━━━━━━━━\u001b[0m \u001b[32m281.4/281.4 MB\u001b[0m \u001b[31m5.4 MB/s\u001b[0m eta \u001b[36m0:00:00\u001b[0m\n",
            "\u001b[?25h  Preparing metadata (setup.py) ... \u001b[?25l\u001b[?25hdone\n",
            "Collecting py4j==0.10.9.5\n",
            "  Downloading py4j-0.10.9.5-py2.py3-none-any.whl (199 kB)\n",
            "\u001b[2K     \u001b[90m━━━━━━━━━━━━━━━━━━━━━━━━━━━━━━━━━━━━━━\u001b[0m \u001b[32m199.7/199.7 KB\u001b[0m \u001b[31m17.7 MB/s\u001b[0m eta \u001b[36m0:00:00\u001b[0m\n",
            "\u001b[?25hBuilding wheels for collected packages: pyspark\n",
            "  Building wheel for pyspark (setup.py) ... \u001b[?25l\u001b[?25hdone\n",
            "  Created wheel for pyspark: filename=pyspark-3.3.2-py2.py3-none-any.whl size=281824025 sha256=5fb0a0dedeff5cb42032c5df9c11c6d383e45015ba225c3a7ca0e93b0be0e769\n",
            "  Stored in directory: /root/.cache/pip/wheels/b1/59/a0/a1a0624b5e865fd389919c1a10f53aec9b12195d6747710baf\n",
            "Successfully built pyspark\n",
            "Installing collected packages: py4j, pyspark\n",
            "Successfully installed py4j-0.10.9.5 pyspark-3.3.2\n",
            "The following additional packages will be installed:\n",
            "  openjdk-8-jre-headless\n",
            "Suggested packages:\n",
            "  openjdk-8-demo openjdk-8-source libnss-mdns fonts-dejavu-extra\n",
            "  fonts-ipafont-gothic fonts-ipafont-mincho fonts-wqy-microhei\n",
            "  fonts-wqy-zenhei fonts-indic\n",
            "The following NEW packages will be installed:\n",
            "  openjdk-8-jdk-headless openjdk-8-jre-headless\n",
            "0 upgraded, 2 newly installed, 0 to remove and 21 not upgraded.\n",
            "Need to get 36.5 MB of archives.\n",
            "After this operation, 143 MB of additional disk space will be used.\n",
            "Selecting previously unselected package openjdk-8-jre-headless:amd64.\n",
            "(Reading database ... 128121 files and directories currently installed.)\n",
            "Preparing to unpack .../openjdk-8-jre-headless_8u352-ga-1~20.04_amd64.deb ...\n",
            "Unpacking openjdk-8-jre-headless:amd64 (8u352-ga-1~20.04) ...\n",
            "Selecting previously unselected package openjdk-8-jdk-headless:amd64.\n",
            "Preparing to unpack .../openjdk-8-jdk-headless_8u352-ga-1~20.04_amd64.deb ...\n",
            "Unpacking openjdk-8-jdk-headless:amd64 (8u352-ga-1~20.04) ...\n",
            "Setting up openjdk-8-jre-headless:amd64 (8u352-ga-1~20.04) ...\n",
            "update-alternatives: using /usr/lib/jvm/java-8-openjdk-amd64/jre/bin/orbd to provide /usr/bin/orbd (orbd) in auto mode\n",
            "update-alternatives: using /usr/lib/jvm/java-8-openjdk-amd64/jre/bin/servertool to provide /usr/bin/servertool (servertool) in auto mode\n",
            "update-alternatives: using /usr/lib/jvm/java-8-openjdk-amd64/jre/bin/tnameserv to provide /usr/bin/tnameserv (tnameserv) in auto mode\n",
            "Setting up openjdk-8-jdk-headless:amd64 (8u352-ga-1~20.04) ...\n",
            "update-alternatives: using /usr/lib/jvm/java-8-openjdk-amd64/bin/idlj to provide /usr/bin/idlj (idlj) in auto mode\n",
            "update-alternatives: using /usr/lib/jvm/java-8-openjdk-amd64/bin/wsimport to provide /usr/bin/wsimport (wsimport) in auto mode\n",
            "update-alternatives: using /usr/lib/jvm/java-8-openjdk-amd64/bin/jsadebugd to provide /usr/bin/jsadebugd (jsadebugd) in auto mode\n",
            "update-alternatives: using /usr/lib/jvm/java-8-openjdk-amd64/bin/native2ascii to provide /usr/bin/native2ascii (native2ascii) in auto mode\n",
            "update-alternatives: using /usr/lib/jvm/java-8-openjdk-amd64/bin/javah to provide /usr/bin/javah (javah) in auto mode\n",
            "update-alternatives: using /usr/lib/jvm/java-8-openjdk-amd64/bin/clhsdb to provide /usr/bin/clhsdb (clhsdb) in auto mode\n",
            "update-alternatives: using /usr/lib/jvm/java-8-openjdk-amd64/bin/xjc to provide /usr/bin/xjc (xjc) in auto mode\n",
            "update-alternatives: using /usr/lib/jvm/java-8-openjdk-amd64/bin/hsdb to provide /usr/bin/hsdb (hsdb) in auto mode\n",
            "update-alternatives: using /usr/lib/jvm/java-8-openjdk-amd64/bin/schemagen to provide /usr/bin/schemagen (schemagen) in auto mode\n",
            "update-alternatives: using /usr/lib/jvm/java-8-openjdk-amd64/bin/extcheck to provide /usr/bin/extcheck (extcheck) in auto mode\n",
            "update-alternatives: using /usr/lib/jvm/java-8-openjdk-amd64/bin/jhat to provide /usr/bin/jhat (jhat) in auto mode\n",
            "update-alternatives: using /usr/lib/jvm/java-8-openjdk-amd64/bin/wsgen to provide /usr/bin/wsgen (wsgen) in auto mode\n"
          ]
        }
      ],
      "source": [
        "!apt autoremove\n",
        "!pip install pyspark\n",
        "!pip install -U -q PyDrive\n",
        "!apt install openjdk-8-jdk-headless -qq\n",
        "\n",
        "import os\n",
        "os.environ[\"JAVA_HOME\"] = \"/usr/lib/jvm/java-8-openjdk-amd64\""
      ]
    },
    {
      "cell_type": "code",
      "metadata": {
        "id": "1dfnX7IAOkvH"
      },
      "source": [
        "from pydrive.auth import GoogleAuth\n",
        "from pydrive.drive import GoogleDrive\n",
        "from google.colab import auth\n",
        "from oauth2client.client import GoogleCredentials\n",
        "\n",
        "# Authenticate and create the PyDrive client\n",
        "auth.authenticate_user()\n",
        "gauth = GoogleAuth()\n",
        "gauth.credentials = GoogleCredentials.get_application_default()\n",
        "drive = GoogleDrive(gauth)"
      ],
      "execution_count": 2,
      "outputs": []
    },
    {
      "cell_type": "code",
      "metadata": {
        "id": "UF5nuSdyTJpc"
      },
      "source": [
        "id='1L6pCQkldvdBoaEhRFzL0VnrggEFvqON4'\n",
        "downloaded = drive.CreateFile({'id': id}) \n",
        "downloaded.GetContentFile('Bombing_Operations.json.gz')\n",
        "\n",
        "id='14dyBmcTBA32uXPxDbqr0bFDIzGxMTWwl'\n",
        "downloaded = drive.CreateFile({'id': id}) \n",
        "downloaded.GetContentFile('Aircraft_Glossary.json.gz')  "
      ],
      "execution_count": 3,
      "outputs": []
    },
    {
      "cell_type": "code",
      "source": [
        "import pandas as pd\n",
        "import numpy as np\n",
        "import matplotlib.pyplot as plt\n",
        "%matplotlib inline\n",
        "\n",
        "import pyspark\n",
        "from pyspark.sql import *\n",
        "from pyspark.sql.functions import *\n",
        "from pyspark import SparkContext, SparkConf"
      ],
      "metadata": {
        "id": "9b4ehcYuIpFY"
      },
      "execution_count": 4,
      "outputs": []
    },
    {
      "cell_type": "code",
      "source": [
        "# create the session\n",
        "conf = SparkConf().set(\"spark.ui.port\", \"4050\")\n",
        "\n",
        "# create the context\n",
        "sc = pyspark.SparkContext(conf=conf)\n",
        "spark = SparkSession.builder.getOrCreate()"
      ],
      "metadata": {
        "id": "4PESs5AiI3vZ"
      },
      "execution_count": 5,
      "outputs": []
    },
    {
      "cell_type": "code",
      "source": [
        "spark"
      ],
      "metadata": {
        "colab": {
          "base_uri": "https://localhost:8080/",
          "height": 219
        },
        "id": "k7--ObhmI-up",
        "outputId": "8cc93dfa-f712-42cf-ea01-04f74c423ade"
      },
      "execution_count": 6,
      "outputs": [
        {
          "output_type": "execute_result",
          "data": {
            "text/plain": [
              "<pyspark.sql.session.SparkSession at 0x7f745ce521f0>"
            ],
            "text/html": [
              "\n",
              "            <div>\n",
              "                <p><b>SparkSession - in-memory</b></p>\n",
              "                \n",
              "        <div>\n",
              "            <p><b>SparkContext</b></p>\n",
              "\n",
              "            <p><a href=\"http://ac45b34aa133:4050\">Spark UI</a></p>\n",
              "\n",
              "            <dl>\n",
              "              <dt>Version</dt>\n",
              "                <dd><code>v3.3.2</code></dd>\n",
              "              <dt>Master</dt>\n",
              "                <dd><code>local[*]</code></dd>\n",
              "              <dt>AppName</dt>\n",
              "                <dd><code>pyspark-shell</code></dd>\n",
              "            </dl>\n",
              "        </div>\n",
              "        \n",
              "            </div>\n",
              "        "
            ]
          },
          "metadata": {},
          "execution_count": 6
        }
      ]
    },
    {
      "cell_type": "code",
      "source": [
        "!wget https://bin.equinox.io/c/4VmDzA7iaHb/ngrok-stable-linux-amd64.zip\n",
        "!unzip ngrok-stable-linux-amd64.zip\n",
        "get_ipython().system_raw('./ngrok http 4050 &')\n",
        "!curl -s http://localhost:4040/api/tunnels | python3 -c \\\n",
        "    \"import sys, json; print(json.load(sys.stdin)['tunnels'][0]['public_url'])\""
      ],
      "metadata": {
        "colab": {
          "base_uri": "https://localhost:8080/"
        },
        "id": "nWPLgfF7JGww",
        "outputId": "19e06f56-d910-4060-e29d-96f11551203e"
      },
      "execution_count": 7,
      "outputs": [
        {
          "output_type": "stream",
          "name": "stdout",
          "text": [
            "--2023-02-16 12:38:30--  https://bin.equinox.io/c/4VmDzA7iaHb/ngrok-stable-linux-amd64.zip\n",
            "Resolving bin.equinox.io (bin.equinox.io)... 18.205.222.128, 52.202.168.65, 54.237.133.81, ...\n",
            "Connecting to bin.equinox.io (bin.equinox.io)|18.205.222.128|:443... connected.\n",
            "HTTP request sent, awaiting response... 200 OK\n",
            "Length: 13921656 (13M) [application/octet-stream]\n",
            "Saving to: ‘ngrok-stable-linux-amd64.zip’\n",
            "\n",
            "ngrok-stable-linux- 100%[===================>]  13.28M  3.46MB/s    in 5.0s    \n",
            "\n",
            "2023-02-16 12:38:35 (2.65 MB/s) - ‘ngrok-stable-linux-amd64.zip’ saved [13921656/13921656]\n",
            "\n",
            "Archive:  ngrok-stable-linux-amd64.zip\n",
            "  inflating: ngrok                   \n",
            "Traceback (most recent call last):\n",
            "  File \"<string>\", line 1, in <module>\n",
            "IndexError: list index out of range\n"
          ]
        }
      ]
    },
    {
      "cell_type": "markdown",
      "source": [
        "### loading dataset"
      ],
      "metadata": {
        "id": "jDEG6HzcSRN6"
      }
    },
    {
      "cell_type": "code",
      "source": [
        "Bombing_Operations = spark.read.json('Bombing_Operations.json.gz')"
      ],
      "metadata": {
        "id": "c-h7nqgTK2V5"
      },
      "execution_count": 8,
      "outputs": []
    },
    {
      "cell_type": "code",
      "source": [
        "Aircraft_Glossary = spark.read.json('Aircraft_Glossary.json.gz')"
      ],
      "metadata": {
        "id": "Fhnbl7JvLrdR"
      },
      "execution_count": 9,
      "outputs": []
    },
    {
      "cell_type": "code",
      "source": [
        "# Showing the dataset formated\n",
        "Bombing_Operations.show()\n"
      ],
      "metadata": {
        "colab": {
          "base_uri": "https://localhost:8080/"
        },
        "id": "PQXhfrihL4uK",
        "outputId": "e795d9a7-e00f-4ec6-b8ae-1ae6863a3fef"
      },
      "execution_count": 10,
      "outputs": [
        {
          "output_type": "stream",
          "name": "stdout",
          "text": [
            "+--------+--------------------+-----------+------------------+-----------+---------------+-------------+------------+--------------------+-------------------+\n",
            "|AirCraft| ContryFlyingMission|MissionDate|OperationSupported|PeriodOfDay|TakeoffLocation|TargetCountry|TimeOnTarget|          WeaponType|WeaponsLoadedWeight|\n",
            "+--------+--------------------+-----------+------------------+-----------+---------------+-------------+------------+--------------------+-------------------+\n",
            "|   EC-47|UNITED STATES OF ...| 1971-06-05|              null|          D|   TAN SON NHUT|     CAMBODIA|      1005.0|                null|                  0|\n",
            "|   EC-47|UNITED STATES OF ...| 1972-12-26|              null|          D|  NAKHON PHANOM|SOUTH VIETNAM|       530.0|                null|                  0|\n",
            "|    RF-4|UNITED STATES OF ...| 1973-07-28|              null|          D|       UDORN AB|         LAOS|       730.0|                null|                  0|\n",
            "|     A-1|UNITED STATES OF ...| 1970-02-02|              null|          N|  NAKHON PHANOM|         LAOS|      1415.0|BLU27 FIRE BOMB (...|              17400|\n",
            "|    A-37|     VIETNAM (SOUTH)| 1970-10-08|              null|          D|         DANANG|SOUTH VIETNAM|      1240.0|                null|                  0|\n",
            "|     F-4|UNITED STATES OF ...| 1970-11-25|              null|          D|        UBON AB|         LAOS|       650.0|MK 82 GP BOMB (50...|              31860|\n",
            "|     A-4|UNITED STATES OF ...| 1972-03-08|              null|          D|    TONKIN GULF|         LAOS|      1005.0|                null|                  0|\n",
            "|     F-4|UNITED STATES OF ...| 1971-12-27|              null|       null|       UDORN AB|         LAOS|         0.0|                null|                  0|\n",
            "|     A-7|UNITED STATES OF ...| 1972-05-24|              null|       null|    TONKIN GULF|NORTH VIETNAM|         0.0|                null|                  0|\n",
            "|   EC-47|UNITED STATES OF ...| 1972-09-12|              null|          D|   TAN SON NHUT|SOUTH VIETNAM|       710.0|                null|                  0|\n",
            "|   CH-53|UNITED STATES OF ...| 1974-06-13|              null|          N|  NAKHON PHANOM|     THAILAND|      1800.0|                null|                  0|\n",
            "|   CH-53|UNITED STATES OF ...| 1974-12-19|              null|          D|  NAKHON PHANOM|     THAILAND|       800.0|                null|                  0|\n",
            "|     O-1|     VIETNAM (SOUTH)| 1973-10-24|              null|          D|      NHA TRANG|SOUTH VIETNAM|       800.0|                null|                  0|\n",
            "|    UH-1|     VIETNAM (SOUTH)| 1974-03-19|              null|          D|        PHU CAT|SOUTH VIETNAM|       800.0|        CARGO (TONS)|                  0|\n",
            "|     C-7|UNITED STATES OF ...| 1970-05-08|              null|          D|   TAN SON NHUT|SOUTH VIETNAM|       800.0|                null|                  0|\n",
            "|     A-6|UNITED STATES OF ...| 1971-05-12|              null|          N|    TONKIN GULF|         LAOS|      1304.0|CBU24 AN PR/MT (B...|              33200|\n",
            "|   EB-66|UNITED STATES OF ...| 1971-12-03|              null|          N|          KORAT|         LAOS|      1445.0|                null|                  0|\n",
            "|    T-28|                LAOS| 1971-12-19|              null|          D|     SAVANAKHET|         LAOS|       230.0|                null|                  0|\n",
            "|     A-6|UNITED STATES OF ...| 1972-08-18|              null|       null|    TONKIN GULF|NORTH VIETNAM|         0.0|                null|                  0|\n",
            "|     A-7|UNITED STATES OF ...| 1972-10-15|              null|          D|    TONKIN GULF|NORTH VIETNAM|       110.0|                null|                  0|\n",
            "+--------+--------------------+-----------+------------------+-----------+---------------+-------------+------------+--------------------+-------------------+\n",
            "only showing top 20 rows\n",
            "\n"
          ]
        }
      ]
    },
    {
      "cell_type": "code",
      "source": [
        "# Show Unformated\n",
        "Bombing_Operations.take(5)"
      ],
      "metadata": {
        "colab": {
          "base_uri": "https://localhost:8080/"
        },
        "id": "o-tp7vD8MYbp",
        "outputId": "08e15606-ee20-42f2-b7be-18e841cecd72"
      },
      "execution_count": 11,
      "outputs": [
        {
          "output_type": "execute_result",
          "data": {
            "text/plain": [
              "[Row(AirCraft='EC-47', ContryFlyingMission='UNITED STATES OF AMERICA', MissionDate='1971-06-05', OperationSupported=None, PeriodOfDay='D', TakeoffLocation='TAN SON NHUT', TargetCountry='CAMBODIA', TimeOnTarget=1005.0, WeaponType=None, WeaponsLoadedWeight=0),\n",
              " Row(AirCraft='EC-47', ContryFlyingMission='UNITED STATES OF AMERICA', MissionDate='1972-12-26', OperationSupported=None, PeriodOfDay='D', TakeoffLocation='NAKHON PHANOM', TargetCountry='SOUTH VIETNAM', TimeOnTarget=530.0, WeaponType=None, WeaponsLoadedWeight=0),\n",
              " Row(AirCraft='RF-4', ContryFlyingMission='UNITED STATES OF AMERICA', MissionDate='1973-07-28', OperationSupported=None, PeriodOfDay='D', TakeoffLocation='UDORN AB', TargetCountry='LAOS', TimeOnTarget=730.0, WeaponType=None, WeaponsLoadedWeight=0),\n",
              " Row(AirCraft='A-1', ContryFlyingMission='UNITED STATES OF AMERICA', MissionDate='1970-02-02', OperationSupported=None, PeriodOfDay='N', TakeoffLocation='NAKHON PHANOM', TargetCountry='LAOS', TimeOnTarget=1415.0, WeaponType='BLU27 FIRE BOMB (750)', WeaponsLoadedWeight=17400),\n",
              " Row(AirCraft='A-37', ContryFlyingMission='VIETNAM (SOUTH)', MissionDate='1970-10-08', OperationSupported=None, PeriodOfDay='D', TakeoffLocation='DANANG', TargetCountry='SOUTH VIETNAM', TimeOnTarget=1240.0, WeaponType=None, WeaponsLoadedWeight=0)]"
            ]
          },
          "metadata": {},
          "execution_count": 11
        }
      ]
    },
    {
      "cell_type": "code",
      "source": [
        "#Showing the schma of the JSON file\n",
        "Bombing_Operations.printSchema()"
      ],
      "metadata": {
        "colab": {
          "base_uri": "https://localhost:8080/"
        },
        "id": "kfhH2g5FMzio",
        "outputId": "ca92485f-08d8-400c-8407-51960e28e710"
      },
      "execution_count": 13,
      "outputs": [
        {
          "output_type": "stream",
          "name": "stdout",
          "text": [
            "root\n",
            " |-- AirCraft: string (nullable = true)\n",
            " |-- ContryFlyingMission: string (nullable = true)\n",
            " |-- MissionDate: string (nullable = true)\n",
            " |-- OperationSupported: string (nullable = true)\n",
            " |-- PeriodOfDay: string (nullable = true)\n",
            " |-- TakeoffLocation: string (nullable = true)\n",
            " |-- TargetCountry: string (nullable = true)\n",
            " |-- TimeOnTarget: double (nullable = true)\n",
            " |-- WeaponType: string (nullable = true)\n",
            " |-- WeaponsLoadedWeight: long (nullable = true)\n",
            "\n"
          ]
        }
      ]
    },
    {
      "cell_type": "code",
      "source": [
        "Aircraft_Glossary.show()"
      ],
      "metadata": {
        "colab": {
          "base_uri": "https://localhost:8080/"
        },
        "id": "hd769L2cNAlh",
        "outputId": "a8d728aa-ba18-49e2-94b1-9995dd31af2e"
      },
      "execution_count": 14,
      "outputs": [
        {
          "output_type": "stream",
          "name": "stdout",
          "text": [
            "+--------+--------------------+--------------------+\n",
            "|AirCraft|        AirCraftName|        AirCraftType|\n",
            "+--------+--------------------+--------------------+\n",
            "|     A-1|Douglas A-1 Skyra...|         Fighter Jet|\n",
            "|    A-26|Douglas A-26 Invader|        Light Bomber|\n",
            "|    A-37|Cessna A-37 Drago...|Light ground-atta...|\n",
            "|     A-4|McDonnell Douglas...|         Fighter Jet|\n",
            "|     A-5|North American A-...|          Bomber Jet|\n",
            "|     A-6|Grumman A-6 Intruder|     Attack Aircraft|\n",
            "|     A-7|  LTV A-7 Corsair II|     Attack Aircraft|\n",
            "|  AC-119|Fairchild AC-119 ...|Military Transpor...|\n",
            "|  AC-123|Fairchild C-123 P...|Military Transpor...|\n",
            "|  AC-130|Lockheed AC-130 S...|Fixed wing ground...|\n",
            "|   AC-47|Douglas AC-47 Spooky|Ground attack air...|\n",
            "|    AH-1| Bell AH-1 HueyCobra|          Helicopter|\n",
            "|     B-1| Rockwell B-1 Lancer|Heavy strategic b...|\n",
            "|    B-52| B-52 Stratofortress|    Strategic bomber|\n",
            "|    B-57|Martin B-57 Canberra|     Tactical Bomber|\n",
            "|    B-66|Douglas B-66 Dest...|        Light Bomber|\n",
            "|     C-1| Grumman C-1A Trader|           Transport|\n",
            "|   C-117|     C-117D Skytrain|           Transport|\n",
            "|   C-119|Fairchild C-119 F...|Military Transpor...|\n",
            "|   C-123|Fairchild C-123 P...|Military Transpor...|\n",
            "+--------+--------------------+--------------------+\n",
            "only showing top 20 rows\n",
            "\n"
          ]
        }
      ]
    },
    {
      "cell_type": "code",
      "source": [
        "Aircraft_Glossary.take(5)"
      ],
      "metadata": {
        "colab": {
          "base_uri": "https://localhost:8080/"
        },
        "id": "rT_FJdpoNMCR",
        "outputId": "3702ac41-87b8-44cf-d422-8c5641557c17"
      },
      "execution_count": 15,
      "outputs": [
        {
          "output_type": "execute_result",
          "data": {
            "text/plain": [
              "[Row(AirCraft='A-1', AirCraftName='Douglas A-1 Skyraider', AirCraftType='Fighter Jet'),\n",
              " Row(AirCraft='A-26', AirCraftName='Douglas A-26 Invader', AirCraftType='Light Bomber'),\n",
              " Row(AirCraft='A-37', AirCraftName='Cessna A-37 Dragonfly', AirCraftType='Light ground-attack aircraft'),\n",
              " Row(AirCraft='A-4', AirCraftName='McDonnell Douglas A-4 Skyhawk', AirCraftType='Fighter Jet'),\n",
              " Row(AirCraft='A-5', AirCraftName='North American A-5 Vigilante', AirCraftType='Bomber Jet')]"
            ]
          },
          "metadata": {},
          "execution_count": 15
        }
      ]
    },
    {
      "cell_type": "code",
      "source": [
        "Aircraft_Glossary.printSchema()"
      ],
      "metadata": {
        "colab": {
          "base_uri": "https://localhost:8080/"
        },
        "id": "EnvRBkeMNRBp",
        "outputId": "f1f0a952-7744-4606-8523-e2449a1cdda4"
      },
      "execution_count": 16,
      "outputs": [
        {
          "output_type": "stream",
          "name": "stdout",
          "text": [
            "root\n",
            " |-- AirCraft: string (nullable = true)\n",
            " |-- AirCraftName: string (nullable = true)\n",
            " |-- AirCraftType: string (nullable = true)\n",
            "\n"
          ]
        }
      ]
    },
    {
      "cell_type": "markdown",
      "source": [
        "### Executing Queries -select function\n",
        "\n"
      ],
      "metadata": {
        "id": "tyFxMTPyPj9h"
      }
    },
    {
      "cell_type": "code",
      "source": [
        "Bombing_Operations.select('AirCraft','ContryFlyingMission', 'MissionDate').show()"
      ],
      "metadata": {
        "colab": {
          "base_uri": "https://localhost:8080/"
        },
        "id": "Yo2Gu3c4NjlI",
        "outputId": "dd5e11bf-c6f0-4a2b-b180-0473bbdf4b73"
      },
      "execution_count": 17,
      "outputs": [
        {
          "output_type": "stream",
          "name": "stdout",
          "text": [
            "+--------+--------------------+-----------+\n",
            "|AirCraft| ContryFlyingMission|MissionDate|\n",
            "+--------+--------------------+-----------+\n",
            "|   EC-47|UNITED STATES OF ...| 1971-06-05|\n",
            "|   EC-47|UNITED STATES OF ...| 1972-12-26|\n",
            "|    RF-4|UNITED STATES OF ...| 1973-07-28|\n",
            "|     A-1|UNITED STATES OF ...| 1970-02-02|\n",
            "|    A-37|     VIETNAM (SOUTH)| 1970-10-08|\n",
            "|     F-4|UNITED STATES OF ...| 1970-11-25|\n",
            "|     A-4|UNITED STATES OF ...| 1972-03-08|\n",
            "|     F-4|UNITED STATES OF ...| 1971-12-27|\n",
            "|     A-7|UNITED STATES OF ...| 1972-05-24|\n",
            "|   EC-47|UNITED STATES OF ...| 1972-09-12|\n",
            "|   CH-53|UNITED STATES OF ...| 1974-06-13|\n",
            "|   CH-53|UNITED STATES OF ...| 1974-12-19|\n",
            "|     O-1|     VIETNAM (SOUTH)| 1973-10-24|\n",
            "|    UH-1|     VIETNAM (SOUTH)| 1974-03-19|\n",
            "|     C-7|UNITED STATES OF ...| 1970-05-08|\n",
            "|     A-6|UNITED STATES OF ...| 1971-05-12|\n",
            "|   EB-66|UNITED STATES OF ...| 1971-12-03|\n",
            "|    T-28|                LAOS| 1971-12-19|\n",
            "|     A-6|UNITED STATES OF ...| 1972-08-18|\n",
            "|     A-7|UNITED STATES OF ...| 1972-10-15|\n",
            "+--------+--------------------+-----------+\n",
            "only showing top 20 rows\n",
            "\n"
          ]
        }
      ]
    },
    {
      "cell_type": "code",
      "source": [
        "b1 = Bombing_Operations.select('AirCraft','ContryFlyingMission', 'MissionDate')\n",
        "b1.show()"
      ],
      "metadata": {
        "colab": {
          "base_uri": "https://localhost:8080/"
        },
        "id": "YLrG07TkOCYx",
        "outputId": "2bfb46c3-7a91-4153-e3f4-d58a53526620"
      },
      "execution_count": 18,
      "outputs": [
        {
          "output_type": "stream",
          "name": "stdout",
          "text": [
            "+--------+--------------------+-----------+\n",
            "|AirCraft| ContryFlyingMission|MissionDate|\n",
            "+--------+--------------------+-----------+\n",
            "|   EC-47|UNITED STATES OF ...| 1971-06-05|\n",
            "|   EC-47|UNITED STATES OF ...| 1972-12-26|\n",
            "|    RF-4|UNITED STATES OF ...| 1973-07-28|\n",
            "|     A-1|UNITED STATES OF ...| 1970-02-02|\n",
            "|    A-37|     VIETNAM (SOUTH)| 1970-10-08|\n",
            "|     F-4|UNITED STATES OF ...| 1970-11-25|\n",
            "|     A-4|UNITED STATES OF ...| 1972-03-08|\n",
            "|     F-4|UNITED STATES OF ...| 1971-12-27|\n",
            "|     A-7|UNITED STATES OF ...| 1972-05-24|\n",
            "|   EC-47|UNITED STATES OF ...| 1972-09-12|\n",
            "|   CH-53|UNITED STATES OF ...| 1974-06-13|\n",
            "|   CH-53|UNITED STATES OF ...| 1974-12-19|\n",
            "|     O-1|     VIETNAM (SOUTH)| 1973-10-24|\n",
            "|    UH-1|     VIETNAM (SOUTH)| 1974-03-19|\n",
            "|     C-7|UNITED STATES OF ...| 1970-05-08|\n",
            "|     A-6|UNITED STATES OF ...| 1971-05-12|\n",
            "|   EB-66|UNITED STATES OF ...| 1971-12-03|\n",
            "|    T-28|                LAOS| 1971-12-19|\n",
            "|     A-6|UNITED STATES OF ...| 1972-08-18|\n",
            "|     A-7|UNITED STATES OF ...| 1972-10-15|\n",
            "+--------+--------------------+-----------+\n",
            "only showing top 20 rows\n",
            "\n"
          ]
        }
      ]
    },
    {
      "cell_type": "markdown",
      "source": [
        "### Executing Queries -where function\n"
      ],
      "metadata": {
        "id": "8soeGDXqPb75"
      }
    },
    {
      "cell_type": "code",
      "source": [
        "b1.where(\"ContryFlyingMission == 'VIETNAM (SOUTH)'\").show()"
      ],
      "metadata": {
        "colab": {
          "base_uri": "https://localhost:8080/"
        },
        "id": "Z6pE-snkOCV5",
        "outputId": "d6bfe25d-58a4-494d-944a-e3efea9b8a95"
      },
      "execution_count": 19,
      "outputs": [
        {
          "output_type": "stream",
          "name": "stdout",
          "text": [
            "+--------+-------------------+-----------+\n",
            "|AirCraft|ContryFlyingMission|MissionDate|\n",
            "+--------+-------------------+-----------+\n",
            "|    A-37|    VIETNAM (SOUTH)| 1970-10-08|\n",
            "|     O-1|    VIETNAM (SOUTH)| 1973-10-24|\n",
            "|    UH-1|    VIETNAM (SOUTH)| 1974-03-19|\n",
            "|   CH-47|    VIETNAM (SOUTH)| 1971-03-29|\n",
            "|   AC-47|    VIETNAM (SOUTH)| 1971-09-20|\n",
            "|    UH-1|    VIETNAM (SOUTH)| 1972-08-22|\n",
            "|    UH-1|    VIETNAM (SOUTH)| 1973-05-13|\n",
            "|   CH-47|    VIETNAM (SOUTH)| 1975-01-04|\n",
            "|    A-37|    VIETNAM (SOUTH)| 1971-02-08|\n",
            "|   C-119|    VIETNAM (SOUTH)| 1970-09-17|\n",
            "|    A-37|    VIETNAM (SOUTH)| 1971-04-02|\n",
            "|     A-1|    VIETNAM (SOUTH)| 1972-04-29|\n",
            "|     A-1|    VIETNAM (SOUTH)| 1972-08-02|\n",
            "|    UH-1|    VIETNAM (SOUTH)| 1973-10-24|\n",
            "|    UH-1|    VIETNAM (SOUTH)| 1974-12-16|\n",
            "|     A-1|    VIETNAM (SOUTH)| 1970-04-27|\n",
            "|    UH-1|    VIETNAM (SOUTH)| 1975-02-10|\n",
            "|    A-37|    VIETNAM (SOUTH)| 1971-03-03|\n",
            "|     O-1|    VIETNAM (SOUTH)| 1970-08-29|\n",
            "|     A-1|    VIETNAM (SOUTH)| 1971-07-29|\n",
            "+--------+-------------------+-----------+\n",
            "only showing top 20 rows\n",
            "\n"
          ]
        }
      ]
    },
    {
      "cell_type": "code",
      "source": [
        "b1.where('ContryFlyingMission == \"VIETNAM (SOUTH)\" OR ContryFlyingMission == \"LAOS\"').show()"
      ],
      "metadata": {
        "colab": {
          "base_uri": "https://localhost:8080/"
        },
        "id": "26hmLZCQPQzw",
        "outputId": "7b807c0b-eadb-4f0b-934e-a479eb1313b5"
      },
      "execution_count": 20,
      "outputs": [
        {
          "output_type": "stream",
          "name": "stdout",
          "text": [
            "+--------+-------------------+-----------+\n",
            "|AirCraft|ContryFlyingMission|MissionDate|\n",
            "+--------+-------------------+-----------+\n",
            "|    A-37|    VIETNAM (SOUTH)| 1970-10-08|\n",
            "|     O-1|    VIETNAM (SOUTH)| 1973-10-24|\n",
            "|    UH-1|    VIETNAM (SOUTH)| 1974-03-19|\n",
            "|    T-28|               LAOS| 1971-12-19|\n",
            "|   CH-47|    VIETNAM (SOUTH)| 1971-03-29|\n",
            "|   AC-47|    VIETNAM (SOUTH)| 1971-09-20|\n",
            "|    UH-1|    VIETNAM (SOUTH)| 1972-08-22|\n",
            "|    UH-1|    VIETNAM (SOUTH)| 1973-05-13|\n",
            "|   CH-47|    VIETNAM (SOUTH)| 1975-01-04|\n",
            "|    A-37|    VIETNAM (SOUTH)| 1971-02-08|\n",
            "|    T-28|               LAOS| 1972-05-07|\n",
            "|   C-119|    VIETNAM (SOUTH)| 1970-09-17|\n",
            "|    A-37|    VIETNAM (SOUTH)| 1971-04-02|\n",
            "|     A-1|    VIETNAM (SOUTH)| 1972-04-29|\n",
            "|     A-1|    VIETNAM (SOUTH)| 1972-08-02|\n",
            "|    UH-1|    VIETNAM (SOUTH)| 1973-10-24|\n",
            "|    UH-1|    VIETNAM (SOUTH)| 1974-12-16|\n",
            "|     A-1|    VIETNAM (SOUTH)| 1970-04-27|\n",
            "|    UH-1|    VIETNAM (SOUTH)| 1975-02-10|\n",
            "|    A-37|    VIETNAM (SOUTH)| 1971-03-03|\n",
            "+--------+-------------------+-----------+\n",
            "only showing top 20 rows\n",
            "\n"
          ]
        }
      ]
    },
    {
      "cell_type": "markdown",
      "source": [
        "### Executing Queries in form of SQL"
      ],
      "metadata": {
        "id": "V7-kkpCmQRtx"
      }
    },
    {
      "cell_type": "code",
      "source": [
        "# Creating view\n",
        "Bombing_Operations.createOrReplaceTempView('bombing_operation')\n",
        "\n",
        "query = \"\"\"\n",
        "          SELECT AirCraft, ContryFlyingMission, MissionDate\n",
        "          FROM bombing_operation\n",
        "          WHERE ContryFlyingMission=='VIETNAM (SOUTH)' OR ContryFlyingMission == 'LAOS'\n",
        "      \"\"\"\n",
        "\n",
        "result = spark.sql(query)\n",
        "result.show()"
      ],
      "metadata": {
        "colab": {
          "base_uri": "https://localhost:8080/"
        },
        "id": "mc9HmXVdQKWp",
        "outputId": "42c75f23-d42d-4c91-8594-4e05f840a152"
      },
      "execution_count": 22,
      "outputs": [
        {
          "output_type": "stream",
          "name": "stdout",
          "text": [
            "+--------+-------------------+-----------+\n",
            "|AirCraft|ContryFlyingMission|MissionDate|\n",
            "+--------+-------------------+-----------+\n",
            "|    A-37|    VIETNAM (SOUTH)| 1970-10-08|\n",
            "|     O-1|    VIETNAM (SOUTH)| 1973-10-24|\n",
            "|    UH-1|    VIETNAM (SOUTH)| 1974-03-19|\n",
            "|    T-28|               LAOS| 1971-12-19|\n",
            "|   CH-47|    VIETNAM (SOUTH)| 1971-03-29|\n",
            "|   AC-47|    VIETNAM (SOUTH)| 1971-09-20|\n",
            "|    UH-1|    VIETNAM (SOUTH)| 1972-08-22|\n",
            "|    UH-1|    VIETNAM (SOUTH)| 1973-05-13|\n",
            "|   CH-47|    VIETNAM (SOUTH)| 1975-01-04|\n",
            "|    A-37|    VIETNAM (SOUTH)| 1971-02-08|\n",
            "|    T-28|               LAOS| 1972-05-07|\n",
            "|   C-119|    VIETNAM (SOUTH)| 1970-09-17|\n",
            "|    A-37|    VIETNAM (SOUTH)| 1971-04-02|\n",
            "|     A-1|    VIETNAM (SOUTH)| 1972-04-29|\n",
            "|     A-1|    VIETNAM (SOUTH)| 1972-08-02|\n",
            "|    UH-1|    VIETNAM (SOUTH)| 1973-10-24|\n",
            "|    UH-1|    VIETNAM (SOUTH)| 1974-12-16|\n",
            "|     A-1|    VIETNAM (SOUTH)| 1970-04-27|\n",
            "|    UH-1|    VIETNAM (SOUTH)| 1975-02-10|\n",
            "|    A-37|    VIETNAM (SOUTH)| 1971-03-03|\n",
            "+--------+-------------------+-----------+\n",
            "only showing top 20 rows\n",
            "\n"
          ]
        }
      ]
    },
    {
      "cell_type": "code",
      "source": [
        "query = \"\"\"\n",
        "            SELECT COUNT(*) AS NUM_OF_ROWS FROM bombing_operation\n",
        "      \"\"\"\n",
        "result = spark.sql(query)\n",
        "result.show()"
      ],
      "metadata": {
        "colab": {
          "base_uri": "https://localhost:8080/"
        },
        "id": "c36UXSsERdSw",
        "outputId": "5401d8d6-aa5a-4085-f15f-44a6bfb14546"
      },
      "execution_count": 23,
      "outputs": [
        {
          "output_type": "stream",
          "name": "stdout",
          "text": [
            "+-----------+\n",
            "|NUM_OF_ROWS|\n",
            "+-----------+\n",
            "|    4400775|\n",
            "+-----------+\n",
            "\n"
          ]
        }
      ]
    },
    {
      "cell_type": "markdown",
      "source": [
        "## LAB TASK"
      ],
      "metadata": {
        "id": "SMAwhC72UdiJ"
      }
    },
    {
      "cell_type": "markdown",
      "source": [
        "1. Find the Air craft, country flying mission and target country for those missions in which time on target was less than 1000."
      ],
      "metadata": {
        "id": "IbaakYwPVBrx"
      }
    },
    {
      "cell_type": "code",
      "source": [
        "Bombing_Operations.createOrReplaceTempView('bombing_operation')\n",
        "\n",
        "query = \"\"\"\n",
        "          SELECT AirCraft, ContryFlyingMission, TargetCountry\n",
        "          FROM bombing_operation\n",
        "          WHERE TimeOnTarget < 1000\n",
        "        \"\"\"\n",
        "\n",
        "result = spark.sql(query)\n",
        "result.show()"
      ],
      "metadata": {
        "colab": {
          "base_uri": "https://localhost:8080/"
        },
        "id": "5LcFR1TxUdL5",
        "outputId": "2945d402-bbb9-4ee0-8fc2-d911ae3d2c10"
      },
      "execution_count": 24,
      "outputs": [
        {
          "output_type": "stream",
          "name": "stdout",
          "text": [
            "+--------+--------------------+-------------+\n",
            "|AirCraft| ContryFlyingMission|TargetCountry|\n",
            "+--------+--------------------+-------------+\n",
            "|   EC-47|UNITED STATES OF ...|SOUTH VIETNAM|\n",
            "|    RF-4|UNITED STATES OF ...|         LAOS|\n",
            "|     F-4|UNITED STATES OF ...|         LAOS|\n",
            "|     F-4|UNITED STATES OF ...|         LAOS|\n",
            "|     A-7|UNITED STATES OF ...|NORTH VIETNAM|\n",
            "|   EC-47|UNITED STATES OF ...|SOUTH VIETNAM|\n",
            "|   CH-53|UNITED STATES OF ...|     THAILAND|\n",
            "|     O-1|     VIETNAM (SOUTH)|SOUTH VIETNAM|\n",
            "|    UH-1|     VIETNAM (SOUTH)|SOUTH VIETNAM|\n",
            "|     C-7|UNITED STATES OF ...|SOUTH VIETNAM|\n",
            "|    T-28|                LAOS|         LAOS|\n",
            "|     A-6|UNITED STATES OF ...|NORTH VIETNAM|\n",
            "|     A-7|UNITED STATES OF ...|NORTH VIETNAM|\n",
            "|   C-123|UNITED STATES OF ...|SOUTH VIETNAM|\n",
            "|   CH-47|     VIETNAM (SOUTH)|SOUTH VIETNAM|\n",
            "|     F-4|UNITED STATES OF ...|SOUTH VIETNAM|\n",
            "|   AU-24|       KOREA (SOUTH)|     CAMBODIA|\n",
            "|  AC-130|UNITED STATES OF ...|     CAMBODIA|\n",
            "|    A-37|UNITED STATES OF ...|     CAMBODIA|\n",
            "|     F-4|UNITED STATES OF ...|         LAOS|\n",
            "+--------+--------------------+-------------+\n",
            "only showing top 20 rows\n",
            "\n"
          ]
        }
      ]
    },
    {
      "cell_type": "markdown",
      "source": [
        "2. Find the target country and the number of times they have been attacked. Show the result in descending order."
      ],
      "metadata": {
        "id": "xnnSenYaSrnO"
      }
    },
    {
      "cell_type": "code",
      "source": [
        "Bombing_Operations.createOrReplaceTempView('bombing_operation')\n",
        "\n",
        "query = \"\"\"\n",
        "          SELECT TargetCountry, COUNT(TargetCountry) AS Attack\n",
        "          FROM bombing_operation\n",
        "          GROUP BY TargetCountry \n",
        "          ORDER BY COUNT(TargetCountry) DESC\n",
        "       \"\"\"\n",
        "\n",
        "result = spark.sql(query)\n",
        "result.show()"
      ],
      "metadata": {
        "colab": {
          "base_uri": "https://localhost:8080/"
        },
        "id": "71LSfpHCVGRh",
        "outputId": "d2e5a18f-9351-4801-940e-5143e7d69de7"
      },
      "execution_count": 26,
      "outputs": [
        {
          "output_type": "stream",
          "name": "stdout",
          "text": [
            "+--------------+-------+\n",
            "| TargetCountry| Attack|\n",
            "+--------------+-------+\n",
            "| SOUTH VIETNAM|2172403|\n",
            "|          LAOS|1254695|\n",
            "| NORTH VIETNAM| 694269|\n",
            "|      CAMBODIA| 218788|\n",
            "|      THAILAND|  60486|\n",
            "|WESTPAC WATERS|     74|\n",
            "|       UNKNOWN|     59|\n",
            "|   PHILLIPINES|      1|\n",
            "+--------------+-------+\n",
            "\n"
          ]
        }
      ]
    },
    {
      "cell_type": "markdown",
      "source": [
        "3. Find the target country which had been attacked most."
      ],
      "metadata": {
        "id": "rf8LggAITqFe"
      }
    },
    {
      "cell_type": "code",
      "source": [
        "Bombing_Operations.createOrReplaceTempView('bombing_operation')\n",
        "\n",
        "query1 = \"\"\"\n",
        "          SELECT TargetCountry, COUNT(TargetCountry) AS NoOfAttack\n",
        "          FROM bombing_operation\n",
        "          GROUP BY TargetCountry \n",
        "          ORDER BY COUNT(TargetCountry) DESC\n",
        "       \"\"\"\n",
        "\n",
        "result = spark.sql(query1)\n",
        "result.createOrReplaceTempView('TempResult')\n",
        "\n",
        "query2 = \"\"\"\n",
        "          SELECT *\n",
        "          FROM TempResult\n",
        "          WHERE NoOfAttack = (SELECT MAX(NoOfAttack) \n",
        "                              FROM TempResult)\n",
        "       \"\"\"\n",
        "\n",
        "result = spark.sql(query2)\n",
        "result.show()"
      ],
      "metadata": {
        "colab": {
          "base_uri": "https://localhost:8080/"
        },
        "id": "KE9qao2yXNV5",
        "outputId": "c17b931e-bcfd-4b95-935e-f1cc1af70c7e"
      },
      "execution_count": 47,
      "outputs": [
        {
          "output_type": "stream",
          "name": "stdout",
          "text": [
            "+-------------+----------+\n",
            "|TargetCountry|NoOfAttack|\n",
            "+-------------+----------+\n",
            "|SOUTH VIETNAM|   2172403|\n",
            "+-------------+----------+\n",
            "\n"
          ]
        }
      ]
    },
    {
      "cell_type": "markdown",
      "source": [
        "4. Find the country flying mission which attacked most."
      ],
      "metadata": {
        "id": "t84JVXPvXfuv"
      }
    },
    {
      "cell_type": "code",
      "source": [
        "Bombing_Operations.createOrReplaceTempView('bombing_operation')\n",
        "\n",
        "query1 = \"\"\"\n",
        "          SELECT ContryFlyingMission, COUNT(ContryFlyingMission) AS NoOfFlyingMission\n",
        "          FROM bombing_operation\n",
        "          GROUP BY ContryFlyingMission \n",
        "          ORDER BY COUNT(ContryFlyingMission) DESC\n",
        "       \"\"\"\n",
        "\n",
        "result = spark.sql(query1)\n",
        "result.createOrReplaceTempView('TempResult')\n",
        "\n",
        "query2 = \"\"\"\n",
        "          SELECT *\n",
        "          FROM TempResult\n",
        "          WHERE NoOfFlyingMission = (SELECT MAX(NoOfFlyingMission) \n",
        "                                     FROM TempResult)\n",
        "       \"\"\"\n",
        "\n",
        "result = spark.sql(query2)\n",
        "result.show()"
      ],
      "metadata": {
        "colab": {
          "base_uri": "https://localhost:8080/"
        },
        "id": "CEIROUD7XfbR",
        "outputId": "e43a8c41-93a6-478a-d3ba-2b49e5841da3"
      },
      "execution_count": 48,
      "outputs": [
        {
          "output_type": "stream",
          "name": "stdout",
          "text": [
            "+--------------------+-----------------+\n",
            "| ContryFlyingMission|NoOfFlyingMission|\n",
            "+--------------------+-----------------+\n",
            "|UNITED STATES OF ...|          3708997|\n",
            "+--------------------+-----------------+\n",
            "\n"
          ]
        }
      ]
    },
    {
      "cell_type": "markdown",
      "source": [
        "5. Find the take off location and how many times they had used.\n"
      ],
      "metadata": {
        "id": "AAVegc-JbBcH"
      }
    },
    {
      "cell_type": "code",
      "source": [
        "Bombing_Operations.createOrReplaceTempView('bombing_operation')\n",
        "\n",
        "query = \"\"\"\n",
        "          SELECT TakeoffLocation, COUNT(TakeoffLocation) AS NoOfTakeoffLocation\n",
        "          FROM bombing_operation\n",
        "          GROUP BY TakeoffLocation \n",
        "       \"\"\"\n",
        "\n",
        "result = spark.sql(query)\n",
        "result.show()"
      ],
      "metadata": {
        "colab": {
          "base_uri": "https://localhost:8080/"
        },
        "id": "jL4etOmEbA31",
        "outputId": "23f423c5-4ea5-4a48-f731-773bdb055656"
      },
      "execution_count": 39,
      "outputs": [
        {
          "output_type": "stream",
          "name": "stdout",
          "text": [
            "+--------------------+-------------------+\n",
            "|     TakeoffLocation|NoOfTakeoffLocation|\n",
            "+--------------------+-------------------+\n",
            "|        LOUANG PHRAB|               5164|\n",
            "|        TAN SON NHUT|             311872|\n",
            "|            KHE SANH|                 27|\n",
            "|           NHA TRANG|              56818|\n",
            "|          WESTPAC 59|                481|\n",
            "|          KADENA AFB|               5413|\n",
            "|         TONKIN GULF|             194191|\n",
            "|           VINH BINH|                 10|\n",
            "|           AN SON NH|                  3|\n",
            "|           LONG TIEN|               9499|\n",
            "|  CORAL SEA (CVA-43)|               1338|\n",
            "|          WESTPAC 66|              26003|\n",
            "|          WESTPAC 65|              24407|\n",
            "|             U TAPAO|              85041|\n",
            "|          WESTPAC NH|                  5|\n",
            "|                null|                  0|\n",
            "|   ORISKANY (CVA-34)|               8793|\n",
            "|            QUI NHON|               2386|\n",
            "|           QUANG TRI|                447|\n",
            "|FRANKLIN D ROOSEV...|               2001|\n",
            "+--------------------+-------------------+\n",
            "only showing top 20 rows\n",
            "\n"
          ]
        }
      ]
    },
    {
      "cell_type": "markdown",
      "source": [
        "6. Find the number of fighter jets from Aircraft_Glossary.\n"
      ],
      "metadata": {
        "id": "CoimPYeAbAl3"
      }
    },
    {
      "cell_type": "code",
      "source": [
        "Aircraft_Glossary.createOrReplaceTempView('aircraft_glossary')\n",
        "\n",
        "query = \"\"\"\n",
        "            SELECT COUNT(AirCraftType) as TotalNoOfFighterJet\n",
        "            FROM aircraft_glossary\n",
        "            WHERE AirCraftType == 'Fighter Jet'\n",
        "          \"\"\"\n",
        "\n",
        "result = spark.sql(query)\n",
        "result.show()"
      ],
      "metadata": {
        "colab": {
          "base_uri": "https://localhost:8080/"
        },
        "id": "l26cU_XZgyx4",
        "outputId": "cf24c75c-0656-4a70-a60d-b0dcf5c2cb9d"
      },
      "execution_count": 40,
      "outputs": [
        {
          "output_type": "stream",
          "name": "stdout",
          "text": [
            "+-------------------+\n",
            "|TotalNoOfFighterJet|\n",
            "+-------------------+\n",
            "|                 10|\n",
            "+-------------------+\n",
            "\n"
          ]
        }
      ]
    },
    {
      "cell_type": "markdown",
      "source": [
        "7. Find the number of different types air craft for each air craft type.\n"
      ],
      "metadata": {
        "id": "bdqoXuZ_VFup"
      }
    },
    {
      "cell_type": "code",
      "source": [
        "Aircraft_Glossary.createOrReplaceTempView('aircraft_glossary')\n",
        "\n",
        "query = \"\"\"\n",
        "            SELECT AirCraftType, COUNT(AirCraftType) AS NoOfAirCraftType\n",
        "            FROM aircraft_glossary\n",
        "            GROUP BY AirCraftType\n",
        "          \"\"\"\n",
        "\n",
        "result = spark.sql(query)\n",
        "result.show()"
      ],
      "metadata": {
        "colab": {
          "base_uri": "https://localhost:8080/"
        },
        "id": "9yAruGzYmIkK",
        "outputId": "ff60984f-96c2-42df-8de1-8e98e1f2b33d"
      },
      "execution_count": 41,
      "outputs": [
        {
          "output_type": "stream",
          "name": "stdout",
          "text": [
            "+--------------------+----------------+\n",
            "|        AirCraftType|NoOfAirCraftType|\n",
            "+--------------------+----------------+\n",
            "|Carrier-based Fig...|               1|\n",
            "|  Utility Prop plane|               1|\n",
            "|Early Warning air...|               2|\n",
            "|Military Transpor...|              11|\n",
            "|Heavy strategic b...|               1|\n",
            "|Airliner/transpor...|               3|\n",
            "|        Light Bomber|               3|\n",
            "|  Transport Aircraft|               1|\n",
            "|    Cargo Prop plane|               1|\n",
            "| Airliner/ Transport|               1|\n",
            "|Airborne early wa...|               1|\n",
            "|  Jet Fighter Bomber|               1|\n",
            "|Weather reconnais...|               1|\n",
            "|Light Observation...|               1|\n",
            "|Fixed wing ground...|               1|\n",
            "|        Fighter jet |               1|\n",
            "|Photographic reco...|               1|\n",
            "| Light Utility Plane|               3|\n",
            "|Close air support...|               1|\n",
            "|     Tactical Bomber|               1|\n",
            "+--------------------+----------------+\n",
            "only showing top 20 rows\n",
            "\n"
          ]
        }
      ]
    },
    {
      "cell_type": "markdown",
      "source": [
        "8. Find the air craft name which had used most in attacks."
      ],
      "metadata": {
        "id": "OPHmGVxbgxWJ"
      }
    },
    {
      "cell_type": "code",
      "source": [
        "Aircraft_Glossary.createOrReplaceTempView('aircraft_glossary')\n",
        "Bombing_Operations.createOrReplaceTempView('bombing_operation')\n",
        "\n",
        "query1= \"\"\"\n",
        "        SELECT AirCraftName, TargetCountry\n",
        "        FROM aircraft_glossary A, bombing_operation B\n",
        "        WHERE A.AirCraft = B.AirCraft\n",
        "        \"\"\"\n",
        "result = spark.sql(query1)\n",
        "\n",
        "result.createOrReplaceTempView(\"TempResult1\")\n",
        "\n",
        "query2 = \"\"\"\n",
        "            SELECT AirCraftName, COUNT(AirCraftName) as NoOfAirCraftName\n",
        "            FROM TempResult1\n",
        "            GROUP BY AirCraftName\n",
        "          \"\"\"\n",
        "result = spark.sql(query2)\n",
        "\n",
        "result.createOrReplaceTempView(\"TempResult2\")\n",
        "\n",
        "query3 = \"\"\"\n",
        "            SELECT *\n",
        "            FROM TempResult2\n",
        "            WHERE NoOfAirCraftName == (SELECT MAX(NoOfAirCraftName) \n",
        "                                      FROM TempResult2 )\n",
        "          \"\"\"\n",
        "result = spark.sql(query3)\n",
        "result.show()"
      ],
      "metadata": {
        "colab": {
          "base_uri": "https://localhost:8080/"
        },
        "id": "8xK9Rv49nAq6",
        "outputId": "6d8a81f3-a4c2-45e1-917d-10fb6eb26fce"
      },
      "execution_count": 50,
      "outputs": [
        {
          "output_type": "stream",
          "name": "stdout",
          "text": [
            "+--------------------+----------------+\n",
            "|        AirCraftName|NoOfAirCraftName|\n",
            "+--------------------+----------------+\n",
            "|McDonnell Douglas...|          909362|\n",
            "+--------------------+----------------+\n",
            "\n"
          ]
        }
      ]
    }
  ]
}