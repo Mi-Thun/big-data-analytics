{
  "nbformat": 4,
  "nbformat_minor": 0,
  "metadata": {
    "colab": {
      "provenance": []
    },
    "kernelspec": {
      "name": "python3",
      "display_name": "Python 3"
    },
    "language_info": {
      "name": "python"
    }
  },
  "cells": [
    {
      "cell_type": "markdown",
      "source": [
        "## Mohsenul Kabir Mithun\n",
        "##ID: 2019-3-60-046"
      ],
      "metadata": {
        "id": "PicW6zeuZ79R"
      }
    },
    {
      "cell_type": "markdown",
      "source": [
        "### 1. Printing a simulation Table\n",
        "\n"
      ],
      "metadata": {
        "id": "MivOO0LIwlaT"
      }
    },
    {
      "cell_type": "code",
      "source": [
        "!pip install bitarray"
      ],
      "metadata": {
        "colab": {
          "base_uri": "https://localhost:8080/"
        },
        "id": "BgPhfzF62cDT",
        "outputId": "87aca30f-b57c-442c-8f36-96b8f3e529a6"
      },
      "execution_count": 1,
      "outputs": [
        {
          "output_type": "stream",
          "name": "stdout",
          "text": [
            "Looking in indexes: https://pypi.org/simple, https://us-python.pkg.dev/colab-wheels/public/simple/\n",
            "Requirement already satisfied: bitarray in /usr/local/lib/python3.9/dist-packages (2.7.3)\n"
          ]
        }
      ]
    },
    {
      "cell_type": "code",
      "source": [
        "import hashlib\n",
        "from bitarray import bitarray\n",
        "\n",
        "class BloomFilter:\n",
        "    def __init__(self, size, num_hashes):\n",
        "        self.size = size\n",
        "        self.num_hashes = num_hashes\n",
        "        self.filter = bitarray(size)\n",
        "        self.filter.setall(0)\n",
        "\n",
        "        # Print table header\n",
        "        print(\"{:<8} {:<16} {:<10} {:<70} {:<12}\".format(\"Item\", \"Hash Function\", \"Hash Value\", \"Hashed String\", \"Bloom Filter\"))\n",
        "        print(\"{:<8} {:<16} {:<10} {:<70} {:<12}\".format(\"----\", \"-------------\", \"----------\", \"-----------------------------------------------------------------\", \"------------\"))\n",
        "        # Print initial filter state\n",
        "        print(\"{:<8} {:<16} {:<10} {:<70} {:<12}\".format(\"-\", \"-\", \"-\", \"-\", self.filter.to01()))\n",
        "\n",
        "    def hash_function(self, item, seed):\n",
        "        hash_value = hashlib.sha256(str(item).encode('utf-8') + str(seed).encode('utf-8')).hexdigest()\n",
        "        return int(hash_value, 16) % self.size, hash_value\n",
        "\n",
        "    def add(self, item):\n",
        "        for seed in range(self.num_hashes):\n",
        "            index, hash_value = self.hash_function(item, seed)\n",
        "            self.filter[index] = 1\n",
        "            # Print filter updates\n",
        "            print(\"{:<8} {:<16} {:<10} {:<70} {:<12}\".format(item, seed, index, self.hash_function(item, seed)[1], self.filter.to01()))\n",
        "\n",
        "    def __contains__(self, item):\n",
        "        for seed in range(self.num_hashes):\n",
        "            index, _ = self.hash_function(item, seed)\n",
        "            if not self.filter[index]:\n",
        "                return False\n",
        "        return True\n",
        "\n",
        "\n",
        "bf = BloomFilter(12, 4)\n",
        "bf.add(\"hello\")\n",
        "bf.add(\"world\")\n",
        "bf.add(\"mithun\")\n",
        "bf.add(\"kabir\")\n",
        "\n",
        "print(\"hello\" in bf)  # True\n",
        "print(\"world\" in bf)  # True\n",
        "\n",
        "print(\"cat\" in bf)  # False\n",
        "\n",
        "### 2. Show the false positive\n",
        "print(\"dog\" in bf)    # False True\n",
        "print(\"foo\" in bf)    # False True\n"
      ],
      "metadata": {
        "colab": {
          "base_uri": "https://localhost:8080/"
        },
        "id": "q_x0nfRcMTlB",
        "outputId": "260b8442-d6fb-454c-e270-edeb1b05498d"
      },
      "execution_count": 2,
      "outputs": [
        {
          "output_type": "stream",
          "name": "stdout",
          "text": [
            "Item     Hash Function    Hash Value Hashed String                                                          Bloom Filter\n",
            "----     -------------    ---------- -----------------------------------------------------------------      ------------\n",
            "-        -                -          -                                                                      000000000000\n",
            "hello    0                4          5a936ee19a0cf3c70d8cb0006111b7a52f45ec01703e0af8cdc8c6d81ac5850c       000010000000\n",
            "hello    1                11         91e9240f415223982edc345532630710e94a7f52cd5f48f5ee1afc555078f0ab       000010000001\n",
            "hello    2                8          87298cc2f31fba73181ea2a9e6ef10dce21ed95e98bdac9c4e1504ea16f486e4       000010001001\n",
            "hello    3                4          47ea70cf08872bdb4afad3432b01d963ac7d165f6b575cd72ef47498f4459a90       000010001001\n",
            "world    0                5          d38a8139dbc4e7a913ec5b77554b54b0c3c43b6fdce636264eebfe9eaa2be521       000011001001\n",
            "world    1                6          da4c6d4adf93f13551bbad14a82b024befcf61e4b3b9cd9494668b018a3a148a       000011101001\n",
            "world    2                7          09d507a077ca15d2498fb607c12f9f8a5615697fbcb76ec7d02225ea892e9207       000011111001\n",
            "world    3                2          5866ad02554f520203636b8baec9b433716a87e48f87d00be0b3f6ff84554842       001011111001\n",
            "mithun   0                9          4f9d5a8e8569eefd7d838a678171d83eff2773abfc5ae3f8bc1d726d4dc610b9       001011111101\n",
            "mithun   1                2          68fa3d16b0db86b60a70f13bc26a56e0451309e1983f670d8923cbdf8fed7942       001011111101\n",
            "mithun   2                1          dadf33ca5ba619540bcdd21495c2b836f249f4640210116e8b2a76c2ad94ece9       011011111101\n",
            "mithun   3                9          99a46f000de944eab98d54bd826ab0355bc3a5b69a6d8338ddeb3cc0eb1e9755       011011111101\n",
            "kabir    0                3          2ba9043c604f62ca7ee2ac2e461385a1893b425df53b889c060add5ee1d858eb       011111111101\n",
            "kabir    1                1          bf5f737948750f57a121d8d1c7ffaebb000f70d7aa3f51077112748c396e193d       011111111101\n",
            "kabir    2                10         1255368c734019623a12a9b4912c17bef59f36bc4ede4305f2ef0b3a78b1002e       011111111111\n",
            "kabir    3                2          134c167621db63d434f145d68abd987789848154662f4657cd2bd6224a16ffe2       011111111111\n",
            "True\n",
            "True\n",
            "False\n",
            "True\n",
            "True\n"
          ]
        }
      ]
    },
    {
      "cell_type": "markdown",
      "source": [
        "## 2. Show the false positive"
      ],
      "metadata": {
        "id": "HkvA40vNDR9y"
      }
    },
    {
      "cell_type": "markdown",
      "source": [
        "**The probability of a false positive depends on the number of hash functions used and the size of the bit array and number of items added**. The smaller hash functions, smaller size of bit array, more number of added items helps to  higher the false positive rate.\n",
        "\n",
        "When the Bloom filter is initialized, it creates a bit array of size 12 and sets all bits to 0. When \"hello, \"world\", \"mithun\", \"kabir\" are added to the filter, each hash function is applied to them, and the corresponding bits in the bit array are set to 1. Bloom Filter uses 4 hash functions here.\n",
        "\n",
        "Initilization  ==> Final Bit Array <br>\n",
        "  0000000000  ==>  011111111111\n",
        "\n",
        "Here we see that 11 out of 12 bit are activated. So there is high probability to get False Positive. When I look for both \"dog\", \"foo\" I get false positive. Because i did not add this before.\n",
        "\n",
        "\n",
        "\n",
        "**My key idea is that make all bit activate by adding more item.**\n",
        "\n"
      ],
      "metadata": {
        "id": "LSusaTxJDUNK"
      }
    },
    {
      "cell_type": "code",
      "source": [
        "### 2. Show the false positive\n",
        "print(\"dog\" in bf)    # False True\n",
        "print(\"foo\" in bf)    # False True"
      ],
      "metadata": {
        "colab": {
          "base_uri": "https://localhost:8080/"
        },
        "id": "q2Xk1H6nBe7h",
        "outputId": "fcd73249-ce43-4584-d79c-169f5a5f4e34"
      },
      "execution_count": 3,
      "outputs": [
        {
          "output_type": "stream",
          "name": "stdout",
          "text": [
            "True\n",
            "True\n"
          ]
        }
      ]
    }
  ]
}